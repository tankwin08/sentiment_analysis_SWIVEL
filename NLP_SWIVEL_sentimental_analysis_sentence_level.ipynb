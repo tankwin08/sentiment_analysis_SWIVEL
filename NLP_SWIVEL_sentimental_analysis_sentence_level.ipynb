{
 "cells": [
  {
   "cell_type": "markdown",
   "metadata": {},
   "source": [
    "## Review classification on sentiment analysis -  SWIVEL\n",
    "\n",
    "### Objective\n",
    "\n",
    "To classify the reviews of customer feedback as either positive or negative using pre-trained Submatrix-wise Vector Embedding Learner (SWIVEL) model using a small collected review datasets.\n"
   ]
  },
  {
   "cell_type": "markdown",
   "metadata": {},
   "source": [
    "### Basic introduction of NLP and SWIVEL\n",
    "Genealy, it require an amount of data to train and a long time to train a NLP model for a specific dataset. Transfer learning is commonly used in this case to conduct the sentiment analsis for Natural Language Processing (NLP) problem. \n",
    "\n",
    "Swivel performs approximate\n",
    "factorization of the point-wise mutual information\n",
    "matrix via stochastic gradient descent.\n",
    "It uses a piecewise loss with special handling\n",
    "for unobserved co-occurrences, and thus makes\n",
    "use of all the information in the matrix.\n",
    "\n",
    "\n",
    "The codes and framework are implemented in Keras. For a quick start, you can find the following tutorials:\n",
    "\n",
    "* Shazeer, Noam, Ryan Doherty, Colin Evans, and Chris Waterson. \"Swivel: Improving embeddings by noticing what's missing.\" arXiv preprint arXiv:1602.02215 (2016).\n",
    "\n",
    "* [Deep Transfer Learning for Natural Language Processing: Text Classification with Universal Embeddings](https://towardsdatascience.com/deep-transfer-learning-for-natural-language-processing-text-classification-with-universal-1a2c69e5baa9)\n",
    "* [Keras Tutorial: How to Use Google's Universal Sentence Encoder for Spam Classification](http://hunterheidenreich.com/blog/google-universal-sentence-encoder-in-keras/)\n",
    "\n",
    "These examples make use of TensorFlow Hub, which allows pretrained models to easily be loaded into TensorFlow.\n",
    "\n",
    "\n",
    "There are two basic parts to understand the NLP processing: word embbedings and co-occurrence matrix. "
   ]
  },
  {
   "cell_type": "markdown",
   "metadata": {},
   "source": [
    "###  [Pretrained Word Embeddings](https://www.analyticsvidhya.com/blog/2020/03/pretrained-word-embeddings-nlp/)\n",
    "\n",
    "Pretrained Word Embeddings are the embeddings learned in one task that are used for solving another similar task.\n",
    "\n",
    "These embeddings are trained on large datasets, saved, and then used for solving other tasks. That’s why pretrained word embeddings are a form of Transfer Learning.\n",
    "\n",
    "CBOW (Continuous Bag Of Words) and Skip-Gram are two most popular frames for word embedding. In CBOW the words occurring in context (surrounding words) of a selected word are used as inputs and middle or selected word as the target. Its the other way round in Skip-Gram, here the middle word tries to predict the words coming before and after it.\n",
    "\n",
    "**Why do we need Pretrained Word Embeddings?**\n",
    "\n",
    "Pretrained word embeddings capture the semantic and syntactic meaning of a word as they are trained on large datasets. They are capable of boosting the performance of a Natural Language Processing (NLP) model. These word embeddings come in handy during hackathons and of course, in real-world problems as well.\n",
    "\n",
    "But why should we not learn our own embeddings? Well, learning word embeddings from scratch is a challenging problem due to two primary reasons:\n",
    "\n",
    "* 1 Sparsity of training data\n",
    "\n",
    "* 2 Large number of trainable parameters\n",
    "\n",
    "\n",
    "### [Co-occurrence matrix](https://towardsdatascience.com/word2vec-made-easy-139a31a4b8ae)\n",
    "A co-occurrence matrix tells us how often a particular pair of words occur together. Each value in a co-occurrence matrix is a count of a pair of words occurring together.\n",
    " \n",
    "Generally, a co-occurrence matrix will have specific entities in rows (ER) and columns (EC). The purpose of this matrix is to present the number of times each ER appears in the same context as each EC. As a consequence, in order to use a co-occurrence matrix, you have to define your entites and the context in which they co-occur.\n",
    "\n",
    "You can refer to more details [here](https://iksinc.online/tag/co-occurrence-matrix/)"
   ]
  },
  {
   "cell_type": "code",
   "execution_count": 26,
   "metadata": {},
   "outputs": [],
   "source": [
    "import tensorflow as tf\n",
    "import tensorflow_hub as hub\n",
    "import tensorflow_datasets as tfds"
   ]
  },
  {
   "cell_type": "markdown",
   "metadata": {},
   "source": [
    " ### Pretrained word embedding model\n",
    " \n",
    "In this case, we used a pretrained embedding model (word level) called [gnews-swivel-20dim](https://tfhub.dev/google/tf2-preview/gnews-swivel-20dim/1).  This was trained by Google on gnews data and can convert RAW text into vectors. "
   ]
  },
  {
   "cell_type": "code",
   "execution_count": null,
   "metadata": {},
   "outputs": [],
   "source": [
    "model = \"https://tfhub.dev/google/tf2-preview/gnews-swivel-20dim/1\"\n",
    "hub_layer = hub.KerasLayer(model, output_shape=[20], input_shape=[], \n",
    "                           dtype=tf.string, trainable=True)"
   ]
  },
  {
   "cell_type": "markdown",
   "metadata": {},
   "source": [
    "## Data preparation\n",
    "The data coming from [Movie Review Polarity Dataset](https://machinelearningmastery.com/prepare-movie-review-data-sentiment-analysis/)"
   ]
  },
  {
   "cell_type": "code",
   "execution_count": 1,
   "metadata": {},
   "outputs": [],
   "source": [
    "from os import listdir\n",
    "import numpy as np\n",
    "# load doc into memory\n",
    "def load_doc(filename):\n",
    "    # open the file as read only\n",
    "    file = open(filename, 'r')\n",
    "    # read all text\n",
    "    text = file.read()\n",
    "    # close the file\n",
    "    file.close()\n",
    "    return text\n"
   ]
  },
  {
   "cell_type": "markdown",
   "metadata": {},
   "source": [
    "### Preprare for variable data (X)"
   ]
  },
  {
   "cell_type": "code",
   "execution_count": 5,
   "metadata": {},
   "outputs": [],
   "source": [
    "# specify directory to load\n",
    "directory = './data/txt_sentoken/neg'\n",
    "files = listdir(directory)\n",
    "nf = len(files)\n",
    "sr0 = np.empty(len(files),dtype=object)\n",
    "\n",
    "\n",
    "# walk through all files in the folder\n",
    "for fi in range(nf):\n",
    "    filename = files[fi]\n",
    "    # skip files that do not have the right extension\n",
    "    if not filename.endswith(\".txt\"):\n",
    "        continue\n",
    "# create the full path of the file to open\n",
    "    path = directory + '/' + filename\n",
    "# load document\n",
    "    doc = load_doc(path)\n",
    "    sr0[fi] = doc\n",
    "\n",
    "    #st = np.array(doc,dtype='object')\n",
    "    #sr0[fi] = st.reshape(1,)"
   ]
  },
  {
   "cell_type": "code",
   "execution_count": 6,
   "metadata": {},
   "outputs": [],
   "source": [
    "# specify directory to load\n",
    "directory = './data/txt_sentoken/pos'\n",
    "files = listdir(directory)\n",
    "nf = len(files)\n",
    "sr1 = np.empty(len(files),dtype=object)\n",
    "\n",
    "\n",
    "# walk through all files in the folder\n",
    "for fi in range(nf):\n",
    "    filename = files[fi]\n",
    "    # skip files that do not have the right extension\n",
    "    if not filename.endswith(\".txt\"):\n",
    "        continue\n",
    "# create the full path of the file to open\n",
    "    path = directory + '/' + filename\n",
    "# load document\n",
    "    doc = load_doc(path)\n",
    "    #sr1[fi] = np.array(doc,dtype=object)\n",
    "    sr1[fi] = doc\n",
    "    #st = np.array(doc,dtype=object)\n",
    "    #sr1[fi] = st.reshape(1,)"
   ]
  },
  {
   "cell_type": "code",
   "execution_count": 7,
   "metadata": {},
   "outputs": [],
   "source": [
    "sr = np.concatenate((sr0,sr1))"
   ]
  },
  {
   "cell_type": "markdown",
   "metadata": {},
   "source": [
    "### Prepare for the label data (Y)"
   ]
  },
  {
   "cell_type": "code",
   "execution_count": 8,
   "metadata": {},
   "outputs": [],
   "source": [
    "labels = [np.zeros(len(sr0)),np.ones(len(sr1))]\n",
    "lsa = np.array(labels)\n",
    "final_labels = lsa.reshape(2000,)"
   ]
  },
  {
   "cell_type": "markdown",
   "metadata": {},
   "source": [
    "### Split the data"
   ]
  },
  {
   "cell_type": "code",
   "execution_count": 9,
   "metadata": {},
   "outputs": [],
   "source": [
    "from sklearn.model_selection import train_test_split\n",
    "X_train, X_test, y_train, y_test = train_test_split(sr, final_labels, test_size=0.20, random_state=101)"
   ]
  },
  {
   "cell_type": "markdown",
   "metadata": {},
   "source": [
    "### let's see how the sentences are represented by vectors"
   ]
  },
  {
   "cell_type": "code",
   "execution_count": 10,
   "metadata": {},
   "outputs": [
    {
     "data": {
      "text/plain": [
       "<tf.Tensor: id=177, shape=(3, 20), dtype=float32, numpy=\n",
       "array([[ 5.08664656e+00, -5.42909479e+00,  5.36379051e+00,\n",
       "         5.66583812e-01, -6.23635626e+00, -5.98613071e+00,\n",
       "        -2.92170787e+00,  2.38274646e+00,  4.24179840e+00,\n",
       "        -2.13325286e+00, -2.79979253e+00,  3.39131546e+00,\n",
       "        -2.56928372e+00,  6.33380175e-01, -7.93896437e+00,\n",
       "         3.41055346e+00,  7.97056770e+00, -5.04076958e+00,\n",
       "        -6.62077904e+00, -2.72977996e+00],\n",
       "       [ 9.55341053e+00, -7.27930689e+00,  1.23950338e+01,\n",
       "        -1.26030290e+00, -1.00054712e+01, -9.40223408e+00,\n",
       "        -7.00794458e+00,  2.38411069e+00,  9.76185322e+00,\n",
       "        -8.46047974e+00, -5.17542696e+00,  5.50068140e+00,\n",
       "        -4.91278648e+00,  5.85663226e-03, -1.32589035e+01,\n",
       "         8.64748383e+00,  8.81379032e+00, -7.98923635e+00,\n",
       "        -1.32350035e+01, -4.61827040e+00],\n",
       "       [ 5.09217167e+00, -7.38665247e+00,  8.19837379e+00,\n",
       "        -1.33976054e+00, -9.40329456e+00, -7.61010313e+00,\n",
       "        -5.72330618e+00,  1.69892323e+00,  6.10543919e+00,\n",
       "        -4.10702181e+00, -4.79732323e+00,  3.78011990e+00,\n",
       "        -1.32274711e+00, -8.78514573e-02, -1.05559063e+01,\n",
       "         5.49354649e+00,  9.23581028e+00, -4.57212639e+00,\n",
       "        -7.61820221e+00, -3.13718247e+00]], dtype=float32)>"
      ]
     },
     "execution_count": 10,
     "metadata": {},
     "output_type": "execute_result"
    }
   ],
   "source": [
    "hub_layer(X_train[:3])"
   ]
  },
  {
   "cell_type": "markdown",
   "metadata": {},
   "source": [
    "### Build the model"
   ]
  },
  {
   "cell_type": "code",
   "execution_count": 11,
   "metadata": {},
   "outputs": [
    {
     "name": "stdout",
     "output_type": "stream",
     "text": [
      "Model: \"sequential\"\n",
      "_________________________________________________________________\n",
      "Layer (type)                 Output Shape              Param #   \n",
      "=================================================================\n",
      "keras_layer (KerasLayer)     (None, 20)                400020    \n",
      "_________________________________________________________________\n",
      "dense (Dense)                (None, 16)                336       \n",
      "_________________________________________________________________\n",
      "dense_1 (Dense)              (None, 1)                 17        \n",
      "=================================================================\n",
      "Total params: 400,373\n",
      "Trainable params: 400,373\n",
      "Non-trainable params: 0\n",
      "_________________________________________________________________\n"
     ]
    }
   ],
   "source": [
    "model = tf.keras.Sequential()\n",
    "model.add(hub_layer)\n",
    "model.add(tf.keras.layers.Dense(16, activation='relu'))\n",
    "model.add(tf.keras.layers.Dense(1, activation='sigmoid'))\n",
    "\n",
    "model.summary()"
   ]
  },
  {
   "cell_type": "code",
   "execution_count": 12,
   "metadata": {},
   "outputs": [],
   "source": [
    "model.compile(optimizer='adam',\n",
    "              loss='binary_crossentropy',\n",
    "              metrics=['accuracy'])"
   ]
  },
  {
   "cell_type": "code",
   "execution_count": 13,
   "metadata": {},
   "outputs": [],
   "source": [
    "pn = int(len(X_train)*0.2)\n",
    "x_val1 = X_train[:pn]\n",
    "part_x_train = X_train[pn:]\n",
    "\n",
    "y_val1 = y_train[:pn]\n",
    "part_y_train =y_train[pn:]"
   ]
  },
  {
   "cell_type": "code",
   "execution_count": 14,
   "metadata": {},
   "outputs": [
    {
     "name": "stdout",
     "output_type": "stream",
     "text": [
      "Train on 1280 samples, validate on 320 samples\n",
      "Epoch 1/40\n",
      "1280/1280 [==============================] - 2s 1ms/sample - loss: 0.7803 - accuracy: 0.5414 - val_loss: 0.6968 - val_accuracy: 0.5719\n",
      "Epoch 2/40\n",
      "1280/1280 [==============================] - 1s 591us/sample - loss: 0.7122 - accuracy: 0.5523 - val_loss: 0.6655 - val_accuracy: 0.6125\n",
      "Epoch 3/40\n",
      "1280/1280 [==============================] - 1s 551us/sample - loss: 0.6737 - accuracy: 0.5813 - val_loss: 0.6459 - val_accuracy: 0.6406\n",
      "Epoch 4/40\n",
      "1280/1280 [==============================] - 1s 584us/sample - loss: 0.6438 - accuracy: 0.6156 - val_loss: 0.6383 - val_accuracy: 0.6281\n",
      "Epoch 5/40\n",
      "1280/1280 [==============================] - 1s 571us/sample - loss: 0.6144 - accuracy: 0.6578 - val_loss: 0.6359 - val_accuracy: 0.6219\n",
      "Epoch 6/40\n",
      "1280/1280 [==============================] - 1s 575us/sample - loss: 0.5869 - accuracy: 0.6852 - val_loss: 0.5944 - val_accuracy: 0.6781\n",
      "Epoch 7/40\n",
      "1280/1280 [==============================] - 1s 561us/sample - loss: 0.5567 - accuracy: 0.7242 - val_loss: 0.5887 - val_accuracy: 0.6719\n",
      "Epoch 8/40\n",
      "1280/1280 [==============================] - 1s 590us/sample - loss: 0.5290 - accuracy: 0.7578 - val_loss: 0.5672 - val_accuracy: 0.7125\n",
      "Epoch 9/40\n",
      "1280/1280 [==============================] - 1s 576us/sample - loss: 0.5066 - accuracy: 0.7711 - val_loss: 0.5637 - val_accuracy: 0.6938\n",
      "Epoch 10/40\n",
      "1280/1280 [==============================] - 1s 578us/sample - loss: 0.4763 - accuracy: 0.7945 - val_loss: 0.5334 - val_accuracy: 0.7469\n",
      "Epoch 11/40\n",
      "1280/1280 [==============================] - 1s 574us/sample - loss: 0.4464 - accuracy: 0.8125 - val_loss: 0.5201 - val_accuracy: 0.7531\n",
      "Epoch 12/40\n",
      "1280/1280 [==============================] - 1s 589us/sample - loss: 0.4148 - accuracy: 0.8438 - val_loss: 0.5178 - val_accuracy: 0.7500\n",
      "Epoch 13/40\n",
      "1280/1280 [==============================] - 1s 586us/sample - loss: 0.4003 - accuracy: 0.8469 - val_loss: 0.5012 - val_accuracy: 0.7500\n",
      "Epoch 14/40\n",
      "1280/1280 [==============================] - 1s 572us/sample - loss: 0.3624 - accuracy: 0.8727 - val_loss: 0.4887 - val_accuracy: 0.7844\n",
      "Epoch 15/40\n",
      "1280/1280 [==============================] - 1s 591us/sample - loss: 0.3337 - accuracy: 0.8922 - val_loss: 0.4784 - val_accuracy: 0.7812\n",
      "Epoch 16/40\n",
      "1280/1280 [==============================] - 1s 589us/sample - loss: 0.3055 - accuracy: 0.9070 - val_loss: 0.4679 - val_accuracy: 0.7719\n",
      "Epoch 17/40\n",
      "1280/1280 [==============================] - 1s 583us/sample - loss: 0.2748 - accuracy: 0.9273 - val_loss: 0.4508 - val_accuracy: 0.7937\n",
      "Epoch 18/40\n",
      "1280/1280 [==============================] - 1s 626us/sample - loss: 0.2480 - accuracy: 0.9430 - val_loss: 0.4482 - val_accuracy: 0.7812\n",
      "Epoch 19/40\n",
      "1280/1280 [==============================] - 1s 647us/sample - loss: 0.2204 - accuracy: 0.9539 - val_loss: 0.4357 - val_accuracy: 0.7875\n",
      "Epoch 20/40\n",
      "1280/1280 [==============================] - 1s 602us/sample - loss: 0.1979 - accuracy: 0.9586 - val_loss: 0.4284 - val_accuracy: 0.7906\n",
      "Epoch 21/40\n",
      "1280/1280 [==============================] - 1s 612us/sample - loss: 0.1776 - accuracy: 0.9680 - val_loss: 0.4189 - val_accuracy: 0.8188\n",
      "Epoch 22/40\n",
      "1280/1280 [==============================] - 1s 578us/sample - loss: 0.1578 - accuracy: 0.9758 - val_loss: 0.4130 - val_accuracy: 0.8188\n",
      "Epoch 23/40\n",
      "1280/1280 [==============================] - 1s 596us/sample - loss: 0.1392 - accuracy: 0.9805 - val_loss: 0.4105 - val_accuracy: 0.8062\n",
      "Epoch 24/40\n",
      "1280/1280 [==============================] - 1s 566us/sample - loss: 0.1222 - accuracy: 0.9828 - val_loss: 0.4115 - val_accuracy: 0.8188\n",
      "Epoch 25/40\n",
      "1280/1280 [==============================] - 1s 597us/sample - loss: 0.1095 - accuracy: 0.9891 - val_loss: 0.4056 - val_accuracy: 0.8062\n",
      "Epoch 26/40\n",
      "1280/1280 [==============================] - 1s 592us/sample - loss: 0.0956 - accuracy: 0.9922 - val_loss: 0.4122 - val_accuracy: 0.7969\n",
      "Epoch 27/40\n",
      "1280/1280 [==============================] - 1s 586us/sample - loss: 0.0834 - accuracy: 0.9914 - val_loss: 0.4170 - val_accuracy: 0.8062\n",
      "Epoch 28/40\n",
      "1280/1280 [==============================] - 1s 580us/sample - loss: 0.0726 - accuracy: 0.9945 - val_loss: 0.4122 - val_accuracy: 0.8031\n",
      "Epoch 29/40\n",
      "1280/1280 [==============================] - 1s 586us/sample - loss: 0.0619 - accuracy: 0.9961 - val_loss: 0.4157 - val_accuracy: 0.8000\n",
      "Epoch 30/40\n",
      "1280/1280 [==============================] - 1s 594us/sample - loss: 0.0531 - accuracy: 0.9977 - val_loss: 0.4194 - val_accuracy: 0.7969\n",
      "Epoch 31/40\n",
      "1280/1280 [==============================] - 1s 599us/sample - loss: 0.0456 - accuracy: 0.9984 - val_loss: 0.4184 - val_accuracy: 0.7969\n",
      "Epoch 32/40\n",
      "1280/1280 [==============================] - 1s 584us/sample - loss: 0.0397 - accuracy: 0.9992 - val_loss: 0.4187 - val_accuracy: 0.8031\n",
      "Epoch 33/40\n",
      "1280/1280 [==============================] - 1s 587us/sample - loss: 0.0355 - accuracy: 0.9992 - val_loss: 0.4181 - val_accuracy: 0.8031\n",
      "Epoch 34/40\n",
      "1280/1280 [==============================] - 1s 591us/sample - loss: 0.0308 - accuracy: 1.0000 - val_loss: 0.4200 - val_accuracy: 0.8062\n",
      "Epoch 35/40\n",
      "1280/1280 [==============================] - 1s 597us/sample - loss: 0.0273 - accuracy: 1.0000 - val_loss: 0.4243 - val_accuracy: 0.8062\n",
      "Epoch 36/40\n",
      "1280/1280 [==============================] - 1s 578us/sample - loss: 0.0248 - accuracy: 1.0000 - val_loss: 0.4265 - val_accuracy: 0.8062\n",
      "Epoch 37/40\n",
      "1280/1280 [==============================] - 1s 576us/sample - loss: 0.0222 - accuracy: 1.0000 - val_loss: 0.4275 - val_accuracy: 0.8000\n",
      "Epoch 38/40\n",
      "1280/1280 [==============================] - 1s 564us/sample - loss: 0.0200 - accuracy: 1.0000 - val_loss: 0.4288 - val_accuracy: 0.8000\n",
      "Epoch 39/40\n",
      "1280/1280 [==============================] - 1s 566us/sample - loss: 0.0179 - accuracy: 1.0000 - val_loss: 0.4315 - val_accuracy: 0.8031\n",
      "Epoch 40/40\n",
      "1280/1280 [==============================] - 1s 564us/sample - loss: 0.0163 - accuracy: 1.0000 - val_loss: 0.4370 - val_accuracy: 0.8094\n"
     ]
    }
   ],
   "source": [
    "history = model.fit(part_x_train,\n",
    "                    part_y_train,\n",
    "                    epochs=40,\n",
    "                    batch_size=64,\n",
    "                    validation_data=(x_val1, y_val1),\n",
    "                    verbose=1)"
   ]
  },
  {
   "cell_type": "code",
   "execution_count": 15,
   "metadata": {
    "scrolled": false
   },
   "outputs": [
    {
     "name": "stdout",
     "output_type": "stream",
     "text": [
      "\r",
      "400/1 [================================================================================================================================================================================================================================================================================================================================================================================================================================================================================================================================================================================================================================================================================================================================================================================================================================================================================================================================================================================================================================================================================================================================================================================================================================================================================================================================================================================================================================================================================================================================================================================================================================================================================================================================================================================================================================================================================================================================================================================================================================================================================================================================================================================================================================================================================================================================================================================================================================================================================================================================================================================================================================================================================================================================================================================================================================================================================================================================================================================================================================================================================================================================================================================================================================================================================================================================================================================================================================================================================================================================================================================================================================================================================================================================================================================================================================================================================================================================================================================================================================================================================================================================================================================================================================================================================================================================================================================================================================================================================================================================================================================================================================================================================================================================================================================================================================================================================================================================================================================================================================================================================================================================================================================================================================================================================================================================================================================================================================================================================================================================================================================================================================================================================================================================================================================================================================================================================================================================================================================================================================================================================================================================================================================================================================================================================================================================================================================================================================================================================================================================================================================================================================================================================================================================================================================================================================================================================================================================================================================================================================================================================================================================================================================================================================================================================================================================================================================================================================================================================================================================================================================================================================================================================================================================================================================================================================================================================================================================================================================================================================================================================================================================================================================================================================================================================================================================================================================================================================================================================================================================================================================================================================================================================================================================================================================================================================================================================================================================================================================================================================================================================================================================================================================================================================================================================================================================================================================================================================================================================================================================================================================================================================================================================================================================================================================================================================================================================================================================================================================================================================================================================================================================================================================================================================================================================================================================================================================================================================================================================================================================================================================================================================================================================================================================================================================================================================================================================================================================================================================================================================================================================================================================================================================================================================================================================================================================================================================================================================================================================================================================================================================================================================================================================================================================================================================================================================================================================================================================================================================================================================================================================================================================================================================================================================================================================================================================================================================================================================================================================================] - 0s 584us/sample - loss: 0.4991 - accuracy: 0.8625\n"
     ]
    },
    {
     "name": "stdout",
     "output_type": "stream",
     "text": [
      "[0.3613408887386322, 0.8625]\n"
     ]
    }
   ],
   "source": [
    "results = model.evaluate(X_test, y_test)\n",
    "\n",
    "print(results)"
   ]
  },
  {
   "cell_type": "code",
   "execution_count": 16,
   "metadata": {},
   "outputs": [
    {
     "data": {
      "text/plain": [
       "dict_keys(['loss', 'accuracy', 'val_loss', 'val_accuracy'])"
      ]
     },
     "execution_count": 16,
     "metadata": {},
     "output_type": "execute_result"
    }
   ],
   "source": [
    "history_dict = history.history\n",
    "history_dict.keys()"
   ]
  },
  {
   "cell_type": "code",
   "execution_count": 17,
   "metadata": {},
   "outputs": [
    {
     "data": {
      "image/png": "[encoded data removed]",
      "text/plain": [
       "<Figure size 432x288 with 1 Axes>"
      ]
     },
     "metadata": {
      "needs_background": "light"
     },
     "output_type": "display_data"
    }
   ],
   "source": [
    "%matplotlib inline\n",
    "import matplotlib.pyplot as plt\n",
    "\n",
    "acc = history_dict['accuracy']\n",
    "val_acc = history_dict['val_accuracy']\n",
    "loss = history_dict['loss']\n",
    "val_loss = history_dict['val_loss']\n",
    "\n",
    "epochs = range(1, len(acc) + 1)\n",
    "\n",
    "# \"bo\" is for \"blue dot\"\n",
    "plt.plot(epochs, loss, 'bo', label='Training loss')\n",
    "# b is for \"solid blue line\"\n",
    "plt.plot(epochs, val_loss, 'b', label='Validation loss')\n",
    "plt.title('Training and validation loss')\n",
    "plt.xlabel('Epochs')\n",
    "plt.ylabel('Loss')\n",
    "plt.legend()\n",
    "\n",
    "plt.show()"
   ]
  },
  {
   "cell_type": "code",
   "execution_count": 18,
   "metadata": {},
   "outputs": [
    {
     "data": {
      "image/png": "[encoded data removed]",
      "text/plain": [
       "<Figure size 432x288 with 1 Axes>"
      ]
     },
     "metadata": {
      "needs_background": "light"
     },
     "output_type": "display_data"
    }
   ],
   "source": [
    "plt.clf()   # clear figure\n",
    "\n",
    "plt.plot(epochs, acc, 'bo', label='Training acc')\n",
    "plt.plot(epochs, val_acc, 'b', label='Validation acc')\n",
    "plt.title('Training and validation accuracy')\n",
    "plt.xlabel('Epochs')\n",
    "plt.ylabel('Accuracy')\n",
    "plt.legend()\n",
    "\n",
    "plt.show()"
   ]
  },
  {
   "cell_type": "markdown",
   "metadata": {},
   "source": [
    "## Examples randomly extratced online (holdout)"
   ]
  },
  {
   "cell_type": "code",
   "execution_count": 19,
   "metadata": {},
   "outputs": [],
   "source": [
    "import numpy as np"
   ]
  },
  {
   "cell_type": "code",
   "execution_count": 20,
   "metadata": {},
   "outputs": [],
   "source": [
    "ext_text1 = \"very bad service, we have been waiting for a week to come and change the garbage disposal.  The water is overflowing in the kitchen sink.  We have a 2 year old and we couldn’t wash her dirty dishes.  And I can’t wait until February when our lease runs out to move out.\""
   ]
  },
  {
   "cell_type": "code",
   "execution_count": 21,
   "metadata": {},
   "outputs": [],
   "source": [
    "ext_text2 = \"I wanted to share this review with a particular focus in mind. I have been living here for about a year. While when I first moved in, the front office was in transition. However, the customer service I have received from the new office staff has been nothing short of awesome. Ronda, Paula and Jeremy have great whenever I've had an issue with maintenance or questions regarding my lease. They have always treated me with kindness and respect, which is sometimes overlooked in the property-tenant business. I'm happy to be renewing my lease with them.\""
   ]
  },
  {
   "cell_type": "code",
   "execution_count": 22,
   "metadata": {},
   "outputs": [],
   "source": [
    "ss1 = np.array(ext_text1,dtype='object')\n",
    "ss2 = np.array(ext_text2,dtype='object')\n",
    "\n",
    "ss11 = ss1.reshape(1,)\n",
    "ss21 =ss2.reshape(1,)\n",
    "\n",
    "ss = np.concatenate((ss11,ss21),axis = 0)"
   ]
  },
  {
   "cell_type": "code",
   "execution_count": 23,
   "metadata": {},
   "outputs": [
    {
     "data": {
      "text/plain": [
       "(2,)"
      ]
     },
     "execution_count": 23,
     "metadata": {},
     "output_type": "execute_result"
    }
   ],
   "source": [
    "ss.shape"
   ]
  },
  {
   "cell_type": "code",
   "execution_count": 24,
   "metadata": {},
   "outputs": [
    {
     "data": {
      "text/plain": [
       "array([[0.06054954],\n",
       "       [0.77660596]], dtype=float32)"
      ]
     },
     "execution_count": 24,
     "metadata": {},
     "output_type": "execute_result"
    }
   ],
   "source": [
    "model.predict(ss)"
   ]
  },
  {
   "cell_type": "code",
   "execution_count": null,
   "metadata": {},
   "outputs": [],
   "source": []
  }
 ],
 "metadata": {
  "anaconda-cloud": {},
  "kernelspec": {
   "display_name": "Python 3.7 (tensorflow)",
   "language": "python",
   "name": "tensorflow"
  },
  "language_info": {
   "codemirror_mode": {
    "name": "ipython",
    "version": 3
   },
   "file_extension": ".py",
   "mimetype": "text/x-python",
   "name": "python",
   "nbconvert_exporter": "python",
   "pygments_lexer": "ipython3",
   "version": "3.7.6"
  }
 },
 "nbformat": 4,
 "nbformat_minor": 4
}
